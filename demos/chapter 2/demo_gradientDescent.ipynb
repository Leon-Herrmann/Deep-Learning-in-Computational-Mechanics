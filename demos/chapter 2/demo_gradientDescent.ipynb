{
 "cells": [
  {
   "cell_type": "markdown",
   "id": "b92c4486-8ecb-400a-9b0b-c655e5fe0168",
   "metadata": {},
   "source": [
    "# Gradient descent for linear regression\n",
    "\n",
    "### Tips\n",
    "- Try playing with the learning rate and observe:\n",
    "    - faster convergence\n",
    "    - oscillatory non-convergence"
   ]
  },
  {
   "cell_type": "code",
   "id": "f3d4a2f1-84cb-425b-8141-9bd0a5188064",
   "metadata": {},
   "source": [
    "import numpy as np\n",
    "import matplotlib.pyplot as plt"
   ],
   "outputs": [],
   "execution_count": null
  },
  {
   "cell_type": "code",
   "id": "fce815ff-4a36-4e14-bd96-22c1e4e0c198",
   "metadata": {},
   "source": [
    "# training data\n",
    "x = np.linspace(0, 1, 10)\n",
    "y = 2 * x + 3  # linear function to be approximated\n",
    "\n",
    "# hyperparameters\n",
    "lr = 7e-1  # learning rate\n",
    "epochs = 50  # number of iterations\n",
    "\n",
    "# initial model\n",
    "w = 1  # weight\n",
    "b = 1  # bias\n",
    "\n",
    "costHistory = np.zeros(epochs, )\n",
    "\n",
    "# training loop\n",
    "for epoch in range(epochs):\n",
    "    yPred = w * x + b  # prediction\n",
    "    cost = np.mean((yPred - y) ** 2)\n",
    "    costHistory[epoch] = cost\n",
    "\n",
    "    # Cost function gradients\n",
    "    dcostdw = np.mean(2 * x * (yPred - y))\n",
    "    dcostdb = np.mean(2 * (yPred - y))\n",
    "\n",
    "    # gradient descent updates\n",
    "    w -= lr * dcostdw\n",
    "    b -= lr * dcostdb\n",
    "    if epoch % 10 == 0:\n",
    "        print(\"Epoch \", epoch, \"--- Cost: \", cost)  # print progress every 10th epoch"
   ],
   "outputs": [],
   "execution_count": null
  },
  {
   "cell_type": "code",
   "id": "7906cdb9-2583-4fd6-8ded-919f08090853",
   "metadata": {},
   "source": [
    "plt.semilogy(costHistory);\n",
    "plt.xlabel(\"epoch\");\n",
    "plt.ylabel(\"cost\");"
   ],
   "outputs": [],
   "execution_count": null
  }
 ],
 "metadata": {
  "kernelspec": {
   "display_name": "Python 3 (ipykernel)",
   "language": "python",
   "name": "python3"
  },
  "language_info": {
   "codemirror_mode": {
    "name": "ipython",
    "version": 3
   },
   "file_extension": ".py",
   "mimetype": "text/x-python",
   "name": "python",
   "nbconvert_exporter": "python",
   "pygments_lexer": "ipython3",
   "version": "3.12.2"
  }
 },
 "nbformat": 4,
 "nbformat_minor": 5
}
