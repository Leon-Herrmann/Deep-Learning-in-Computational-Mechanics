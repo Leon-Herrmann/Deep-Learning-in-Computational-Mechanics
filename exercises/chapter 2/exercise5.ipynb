{
 "cells": [
  {
   "attachments": {},
   "cell_type": "markdown",
   "metadata": {},
   "source": [
    "# Exercise 5 - Higher-Order Regression\n",
    "\n",
    "### Task\n",
    "Implement a higher order regression model. The class structure is provided and identical to the one provided in exercise 2.1. Add the following four member functions:\n",
    "- the forward prediction\n",
    "- the cost function computation\n",
    "- the gradient computation\n",
    "- the training algorithm\n",
    "\n",
    "### Learning goals\n",
    "- Understand the foundational steps of machine learning by implementing each of the components\n",
    "- Understand the principle of gradient descent for multiparameter optimization\n"
   ]
  },
  {
   "cell_type": "code",
   "metadata": {},
   "source": [
    "import numpy as np\n",
    "import matplotlib.pyplot as plt"
   ],
   "outputs": [],
   "execution_count": null
  },
  {
   "attachments": {},
   "cell_type": "markdown",
   "metadata": {},
   "source": [
    "generate the data"
   ]
  },
  {
   "cell_type": "code",
   "metadata": {},
   "source": [
    "np.random.seed(10)  # Generate the data.\n",
    "xTrain = np.array([-1.0, -0.8, -0.2, 0.5, 0.7])\n",
    "yTrain = -(xTrain ** 2) + 10.0\n",
    "yTrain[3] -= 0.2\n",
    "xTest = np.array([-1.1, -0.6, 0.1, 0.3])\n",
    "yTest = -(xTest ** 2) + 10.0"
   ],
   "outputs": [],
   "execution_count": null
  },
  {
   "attachments": {},
   "cell_type": "markdown",
   "metadata": {},
   "source": [
    "model definition"
   ]
  },
  {
   "cell_type": "code",
   "metadata": {},
   "source": [
    "class HigherOrderRegression:\n",
    "    def __init__(self, polynomialDegree, regularization=None):\n",
    "        self.polynomialDegree = polynomialDegree\n",
    "        self.regularization = regularization\n",
    "        self.weights = np.zeros(polynomialDegree)\n",
    "        self.bias = 0\n",
    "\n",
    "    def forward(self, x):\n",
    "        raise NotImplementedError()  # your code goes here\n",
    "        return y\n",
    "\n",
    "    def costFunction(self, x, y):\n",
    "        raise NotImplementedError()  # your code goes here\n",
    "        return cost\n",
    "\n",
    "    def gradient(self, x, y):\n",
    "        raise NotImplementedError()  # your code goes here\n",
    "        return gradientWeights, gradientBias\n",
    "\n",
    "    def train(self, epochs, lr, xTrain, yTrain, xTest, yTest):\n",
    "        raise NotImplementedError()  # your code goes here"
   ],
   "outputs": [],
   "execution_count": null
  },
  {
   "attachments": {},
   "cell_type": "markdown",
   "metadata": {},
   "source": [
    "model training"
   ]
  },
  {
   "cell_type": "code",
   "metadata": {},
   "source": [
    "polynomialDegree = 3\n",
    "lr = 1e-1\n",
    "epochs = 1000\n",
    "\n",
    "model = HigherOrderRegression(polynomialDegree)\n",
    "model.train(epochs, lr, xTrain, yTrain, xTest, yTest)"
   ],
   "outputs": [],
   "execution_count": null
  },
  {
   "attachments": {},
   "cell_type": "markdown",
   "metadata": {},
   "source": [
    "visualize the prediction"
   ]
  },
  {
   "cell_type": "code",
   "metadata": {},
   "source": [
    "yTrainPred = model.forward(xTrain)  # not visualized\n",
    "yTestPred = model.forward(xTest)  # not visualized\n",
    "\n",
    "x = np.linspace(-1.1, 1, 100)\n",
    "yPred = model.forward(x)\n",
    "\n",
    "fig, ax = plt.subplots(figsize=(12, 6))\n",
    "ax.scatter(xTest, yTest, color=\"r\", label=\"testing data\")\n",
    "ax.scatter(xTrain, yTrain, color=\"k\", label=\"training data\")\n",
    "ax.plot(x, yPred, \"k\", label=\"prediction\")\n",
    "ax.legend()\n",
    "plt.show()"
   ],
   "outputs": [],
   "execution_count": null
  }
 ],
 "metadata": {
  "kernelspec": {
   "display_name": "Python 3",
   "language": "python",
   "name": "python3"
  },
  "language_info": {
   "codemirror_mode": {
    "name": "ipython",
    "version": 3
   },
   "file_extension": ".py",
   "mimetype": "text/x-python",
   "name": "python",
   "nbconvert_exporter": "python",
   "pygments_lexer": "ipython3",
   "version": "3.10.2"
  },
  "orig_nbformat": 4
 },
 "nbformat": 4,
 "nbformat_minor": 2
}
