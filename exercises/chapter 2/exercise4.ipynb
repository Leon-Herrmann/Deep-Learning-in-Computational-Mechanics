{
 "cells": [
  {
   "attachments": {},
   "cell_type": "markdown",
   "metadata": {},
   "source": [
    "# Exercise 4 - Linear Regression\n",
    "\n",
    "### Task\n",
    "Implement a linear regression model with the provided class structure. \n",
    "Write the following member functions:\n",
    "- the forward prediction\n",
    "- the cost function computation\n",
    "- the gradient computation\n",
    "- the training algorithm \n",
    "\n",
    "### Learning goals\n",
    "- Understand the foundational steps of machine learning by implementing each of the components\n",
    "- Compare with regression using the Normal Equations"
   ]
  },
  {
   "cell_type": "code",
   "metadata": {},
   "source": [
    "import numpy as np\n",
    "import matplotlib.pyplot as plt"
   ],
   "outputs": [],
   "execution_count": null
  },
  {
   "attachments": {},
   "cell_type": "markdown",
   "metadata": {},
   "source": [
    "Generate noisy training and test data with an 80/20 split"
   ]
  },
  {
   "cell_type": "code",
   "metadata": {},
   "source": [
    "np.random.seed(7654)  # deterministic random seed\n",
    "xTrain = np.random.randn(80)\n",
    "yTrain = 2 * xTrain + 3 + np.random.randn(80)\n",
    "\n",
    "xTest = np.random.randn(20)\n",
    "yTest = 2 * xTest + 3 + np.random.randn(20)"
   ],
   "outputs": [],
   "execution_count": null
  },
  {
   "attachments": {},
   "cell_type": "markdown",
   "metadata": {},
   "source": [
    "Model Definition in `forward`: $\\hat{y}=wx+b$ \n",
    "\n",
    "Cost function: $C(\\boldsymbol{w},b)=\\frac1{m_\\mathcal{D}}\\sum_{i=1}^{m_\\mathcal{D}}(\\tilde{y}_i-(\\boldsymbol{w}^\\mathsf{T}\\tilde{x}_i+b))^2$\n",
    "\n",
    "Gradient of weights: $\\frac{\\partial C}{\\partial w} =\\frac{1}{m_{\\mathcal{D}}}\\sum_{i=1}^{m_{\\mathcal{D}}}-2\\tilde{x}_{i}\\left(\\tilde{y}_{i}-(w\\tilde{x}_{i}+b)\\right)$\n",
    "\n",
    "Gradient of biases: $\\frac{\\partial C}{\\partial b} =\\frac{1}{m_{\\mathcal{D}}}\\sum_{i=1}^{m_{\\mathcal{D}}}-2\\left(\\tilde{y}_{i}-(w\\tilde{x}_{i}+b)\\right)$\n",
    "\n",
    "Training update steps:\n",
    "$w\\leftarrow w-\\alpha\\frac{\\partial C}{\\partial w} \\\\\n",
    "b\\leftarrow b-\\alpha\\frac{\\partial C}{\\partial b}$"
   ]
  },
  {
   "cell_type": "code",
   "metadata": {},
   "source": [
    "class LinearRegression:\n",
    "    def __init__(self):\n",
    "        self.weight = 0\n",
    "        self.bias = 0\n",
    "\n",
    "    def forward(self, x):\n",
    "        raise NotImplementedError()  # your code goes here\n",
    "        return y\n",
    "\n",
    "    def costFunction(self, x, y):\n",
    "        raise NotImplementedError()  # your code goes here\n",
    "        return cost\n",
    "\n",
    "    def gradient(self, x, y):\n",
    "        raise NotImplementedError()  # your code goes here\n",
    "        return gradientWeight, gradientBias\n",
    "\n",
    "    def train(self, epochs, lr, xTrain, yTrain, xTest, yTest):\n",
    "        for epoch in range(epochs):\n",
    "            raise NotImplementedError()  # your code goes here"
   ],
   "outputs": [],
   "execution_count": null
  },
  {
   "attachments": {},
   "cell_type": "markdown",
   "metadata": {},
   "source": [
    "model training"
   ]
  },
  {
   "cell_type": "code",
   "metadata": {},
   "source": [
    "lr = 1e-1\n",
    "epochs = 100\n",
    "\n",
    "model = LinearRegression()\n",
    "model.train(epochs, lr, xTrain, yTrain, xTest, yTest)"
   ],
   "outputs": [],
   "execution_count": null
  },
  {
   "attachments": {},
   "cell_type": "markdown",
   "metadata": {},
   "source": [
    "visualize the prediction"
   ]
  },
  {
   "cell_type": "code",
   "metadata": {},
   "source": [
    "yTrainPred = model.forward(xTrain)  # not visualized\n",
    "yTestPred = model.forward(xTest)  # not visualized\n",
    "\n",
    "x = np.linspace(np.min(xTest), np.max(xTest), 100)\n",
    "yPred = model.forward(x)\n",
    "\n",
    "fig, ax = plt.subplots(figsize=(12, 6))\n",
    "ax.scatter(xTest, yTest, color=\"r\", label=\"testing data\")\n",
    "ax.scatter(xTrain, yTrain, color=\"k\", label=\"training data\")\n",
    "ax.plot(x, yPred, \"b\", label=\"prediction\")\n",
    "ax.legend()\n",
    "plt.show()"
   ],
   "outputs": [],
   "execution_count": null
  },
  {
   "cell_type": "code",
   "metadata": {},
   "source": [
    "print('Model Bias, b = ', model.bias)\n",
    "print('Model Weight, w = ', model.weight)"
   ],
   "outputs": [],
   "execution_count": null
  }
 ],
 "metadata": {
  "kernelspec": {
   "display_name": "Python 3.12 (XPython)",
   "language": "python",
   "name": "xpython"
  },
  "language_info": {
   "file_extension": ".py",
   "mimetype": "text/x-python",
   "name": "python",
   "version": "3.1.-1"
  }
 },
 "nbformat": 4,
 "nbformat_minor": 4
}
