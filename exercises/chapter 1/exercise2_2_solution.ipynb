{
 "cells": [
  {
   "cell_type": "markdown",
   "metadata": {},
   "source": [
    "# Exercise 2.2 Solution - Computing Stress Fields with Tensors"
   ]
  },
  {
   "cell_type": "markdown",
   "metadata": {},
   "source": [
    "### Task\n",
    "Estimate the mass density given a displacement field assuming a gravity load\n",
    "\n",
    "### Learning goals: \n",
    "To familiarize yourself with the PyTorch framework with an example from mechanics\n"
   ]
  },
  {
   "cell_type": "code",
   "metadata": {},
   "source": [
    "import torch\n",
    "import matplotlib.pyplot as plt\n",
    "from torch.autograd import grad"
   ],
   "outputs": [],
   "execution_count": null
  },
  {
   "cell_type": "markdown",
   "metadata": {},
   "source": [
    "displacements"
   ]
  },
  {
   "cell_type": "code",
   "metadata": {},
   "source": [
    "u = lambda x, y: 0 * x ** 2 * y ** 2  # needed to force pytorch to evaluate gradient\n",
    "v = lambda x, y: -1.7004e-7 * y ** 2 + x ** 2 * y ** 2 * 0"
   ],
   "outputs": [],
   "execution_count": null
  },
  {
   "cell_type": "markdown",
   "metadata": {},
   "source": [
    "definition of a spatial grid"
   ]
  },
  {
   "cell_type": "code",
   "metadata": {},
   "source": [
    "nx = 5\n",
    "ny = 5\n",
    "\n",
    "x = torch.linspace(-1, 1, nx, requires_grad=True)\n",
    "y = torch.linspace(-1, 1, ny, requires_grad=True)\n",
    "x, y = torch.meshgrid(x, y, indexing=\"ij\")"
   ],
   "outputs": [],
   "execution_count": null
  },
  {
   "cell_type": "markdown",
   "metadata": {},
   "source": [
    "sampled displacement field\n",
    "\n",
    "```\n",
    "d.size = ([2, 5, 5])\n",
    "d[0,:,:] = u(x, y)\n",
    "d[1,:,:] = v(x, y)\n",
    "```"
   ]
  },
  {
   "cell_type": "code",
   "metadata": {},
   "source": [
    "d = torch.cat((u(x, y).unsqueeze(0), v(x, y).unsqueeze(0)), 0)"
   ],
   "outputs": [],
   "execution_count": null
  },
  {
   "cell_type": "markdown",
   "metadata": {},
   "source": [
    "Visualize displacement field"
   ]
  },
  {
   "cell_type": "code",
   "metadata": {},
   "source": [
    "plt.figure(figsize=(4, 3))\n",
    "plt.quiver(x.detach(), y.detach(), d[0, :, :].detach(), d[1, :, :].detach())\n",
    "plt.xlabel('x')\n",
    "plt.ylabel('y')\n",
    "plt.title('Quiver Plot of Vector Field (u, v)')\n",
    "plt.grid(True)\n",
    "plt.show()"
   ],
   "outputs": [],
   "execution_count": null
  },
  {
   "cell_type": "markdown",
   "metadata": {},
   "source": "gradient computation"
  },
  {
   "cell_type": "code",
   "metadata": {},
   "source": [
    "dd_dx = torch.zeros((2, 2, nx, ny))\n",
    "dd_dx[0, 0] = grad(d[0], x, torch.ones_like(x), create_graph=True, retain_graph=True)[0]  # dd_dxdx\n",
    "dd_dx[0, 1] = grad(d[0], y, torch.ones_like(y), create_graph=True, retain_graph=True)[0]  # dd_dxdy\n",
    "dd_dx[1, 0] = grad(d[1], x, torch.ones_like(x), create_graph=True, retain_graph=True)[0]  # dd_dydx\n",
    "dd_dx[1, 1] = grad(d[1], y, torch.ones_like(y), create_graph=True, retain_graph=True)[0]  # dd_dydy"
   ],
   "outputs": [],
   "execution_count": null
  },
  {
   "cell_type": "code",
   "metadata": {},
   "source": [
    "print(dd_dx[0, 0],\n",
    "      dd_dx[0, 1],\n",
    "      dd_dx[1, 0],\n",
    "      dd_dx[1, 1])"
   ],
   "outputs": [],
   "execution_count": null
  },
  {
   "cell_type": "markdown",
   "metadata": {},
   "source": "strain computation"
  },
  {
   "cell_type": "code",
   "metadata": {},
   "source": [
    "eps = 0.5 * (dd_dx + dd_dx.permute((1, 0, 2, 3)))"
   ],
   "outputs": [],
   "execution_count": null
  },
  {
   "cell_type": "markdown",
   "metadata": {},
   "source": "material properties and 4th order material tensor"
  },
  {
   "cell_type": "code",
   "metadata": {},
   "source": [
    "E = 210000.0\n",
    "nu = 0.3\n",
    "\n",
    "C = torch.zeros((2, 2, 2, 2))  # 4th order material tensor\n",
    "C[0, 0, 0, 0] = 1.0\n",
    "C[0, 0, 1, 1] = nu\n",
    "C[1, 1, 0, 0] = nu\n",
    "C[1, 1, 1, 1] = 1.0\n",
    "C[0, 1, 0, 1] = (1.0 - nu) / 2.0\n",
    "C = E / (1.0 - nu ** 2) * C"
   ],
   "outputs": [],
   "execution_count": null
  },
  {
   "cell_type": "markdown",
   "metadata": {},
   "source": [
    "stress computation"
   ]
  },
  {
   "cell_type": "code",
   "metadata": {},
   "source": [
    "sig = torch.tensordot(C, eps)"
   ],
   "outputs": [],
   "execution_count": null
  },
  {
   "cell_type": "markdown",
   "metadata": {
    "collapsed": false,
    "jupyter": {
     "outputs_hidden": false
    }
   },
   "source": [
    "equilibrium computation"
   ]
  },
  {
   "cell_type": "code",
   "metadata": {},
   "source": [
    "grad(\n",
    "    sig[0, 0], x, torch.ones_like(x), create_graph=True, retain_graph=True, allow_unused=True\n",
    ")"
   ],
   "outputs": [],
   "execution_count": null
  },
  {
   "cell_type": "code",
   "metadata": {
    "collapsed": false,
    "jupyter": {
     "outputs_hidden": false
    }
   },
   "source": [
    "dsig11_dx = grad(\n",
    "    sig[0, 0], x, torch.ones_like(x), create_graph=True, retain_graph=True, allow_unused=True\n",
    ")[0]\n",
    "dsig12_dy = grad(\n",
    "    sig[0, 1], y, torch.ones_like(y), create_graph=True, retain_graph=True, allow_unused=True\n",
    ")[0]\n",
    "dsig21_dx = grad(\n",
    "    sig[1, 0], x, torch.ones_like(x), create_graph=True, retain_graph=True, allow_unused=True\n",
    ")[0]\n",
    "dsig22_dy = grad(\n",
    "    sig[1, 1], y, torch.ones_like(y), create_graph=True, retain_graph=True, allow_unused=True\n",
    ")[0]\n",
    "\n",
    "f = torch.zeros((2, nx, ny))\n",
    "f[0] = -dsig11_dx - dsig12_dy  # out of balance force in x1\n",
    "f[1] = -dsig21_dx - dsig22_dy  # out of balance force in x2"
   ],
   "outputs": [],
   "execution_count": null
  },
  {
   "cell_type": "code",
   "metadata": {},
   "source": "grad(sig[1, 0], x, torch.ones_like(x), create_graph=True, retain_graph=True, allow_unused=True)",
   "outputs": [],
   "execution_count": null
  },
  {
   "cell_type": "markdown",
   "metadata": {
    "collapsed": false,
    "jupyter": {
     "outputs_hidden": false
    }
   },
   "source": [
    "density computation"
   ]
  },
  {
   "cell_type": "code",
   "metadata": {
    "collapsed": false,
    "jupyter": {
     "outputs_hidden": false
    }
   },
   "source": [
    "g = 9810\n",
    "rho = f[1] / g\n",
    "print(rho)"
   ],
   "outputs": [],
   "execution_count": null
  },
  {
   "cell_type": "markdown",
   "metadata": {
    "collapsed": false,
    "jupyter": {
     "outputs_hidden": false
    }
   },
   "source": [
    "### Result Visualization: Density\n",
    "\n",
    "**Note:** though there is only one color, the value represented is not constant "
   ]
  },
  {
   "cell_type": "code",
   "metadata": {
    "collapsed": false,
    "jupyter": {
     "outputs_hidden": false
    }
   },
   "source": [
    "fig, ax = plt.subplots()\n",
    "cp = ax.contourf(x.detach(), y.detach(), rho.detach(), levels=12, cmap=plt.cm.jet)\n",
    "fig.colorbar(cp, format=\"%.2e\")\n",
    "ax.set_aspect(\"equal\")\n",
    "fig.tight_layout()\n",
    "plt.show()"
   ],
   "outputs": [],
   "execution_count": null
  }
 ],
 "metadata": {
  "kernelspec": {
   "display_name": "Python 3 (ipykernel)",
   "language": "python",
   "name": "python3"
  },
  "language_info": {
   "codemirror_mode": {
    "name": "ipython",
    "version": 3
   },
   "file_extension": ".py",
   "mimetype": "text/x-python",
   "name": "python",
   "nbconvert_exporter": "python",
   "pygments_lexer": "ipython3",
   "version": "3.12.2"
  }
 },
 "nbformat": 4,
 "nbformat_minor": 4
}
