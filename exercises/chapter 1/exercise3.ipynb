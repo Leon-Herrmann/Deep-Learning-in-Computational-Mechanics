{
 "cells": [
  {
   "cell_type": "markdown",
   "metadata": {},
   "source": "# Exercise 3 - Stress Fields from Perceptrons"
  },
  {
   "cell_type": "markdown",
   "metadata": {},
   "source": [
    "### Task\n",
    "For a one-dimensional displacement field, calculate the strains and stresses using PyTorch for the derivative calculation\n",
    "\n",
    "### Learning goals:\n",
    "- Use PyTorch syntax to create a (one-to-one) linear function \n",
    "- Work with a fundamental example of derivative computation with PyTorch \n",
    "- Draw an analogy between the neural network model and kinematic relations from mechanics"
   ]
  },
  {
   "cell_type": "code",
   "metadata": {},
   "source": [
    "import torch\n",
    "import matplotlib.pyplot as plt\n",
    "from torch.autograd import grad"
   ],
   "outputs": [],
   "execution_count": null
  },
  {
   "cell_type": "markdown",
   "metadata": {},
   "source": [
    "perceptron parameters and perceptron definition\n",
    "\n",
    "Displacement field definition:\n",
    "$$u(x)=wx+b$$\n",
    "\n",
    "Linear transormation defined by `torch.nn.Linear(1,1)`:\n",
    "$$y=xW^T+b$$"
   ]
  },
  {
   "cell_type": "code",
   "metadata": {},
   "source": "# your code goes here: define the perceptron",
   "outputs": [],
   "execution_count": null
  },
  {
   "cell_type": "markdown",
   "metadata": {},
   "source": [
    "definition of a spatial grid"
   ]
  },
  {
   "cell_type": "code",
   "metadata": {},
   "source": [
    "nx = 5\n",
    "x = torch.linspace(-1, 1, nx, requires_grad=True).unsqueeze(1)"
   ],
   "outputs": [],
   "execution_count": null
  },
  {
   "cell_type": "markdown",
   "metadata": {},
   "source": [
    "sample displacement field at points on x vector"
   ]
  },
  {
   "cell_type": "code",
   "metadata": {},
   "source": [
    "d = model(x)"
   ],
   "outputs": [],
   "execution_count": null
  },
  {
   "cell_type": "markdown",
   "metadata": {},
   "source": [
    "gradient computation of modeled displacement field"
   ]
  },
  {
   "cell_type": "code",
   "metadata": {},
   "source": [
    "dd_dx = grad(d, x, torch.ones_like(x), create_graph=True, retain_graph=True)[0]"
   ],
   "outputs": [],
   "execution_count": null
  },
  {
   "cell_type": "markdown",
   "metadata": {},
   "source": [
    "strain computation $$\\varepsilon = \\nabla u$$"
   ]
  },
  {
   "cell_type": "code",
   "metadata": {},
   "source": "# your code goes here: compute the strain",
   "outputs": [],
   "execution_count": null
  },
  {
   "cell_type": "markdown",
   "metadata": {},
   "source": [
    "stress computation\n",
    "$$\\sigma = E \\varepsilon$$"
   ]
  },
  {
   "cell_type": "code",
   "metadata": {},
   "source": "# your code goes here: compute the stress",
   "outputs": [],
   "execution_count": null
  },
  {
   "cell_type": "markdown",
   "metadata": {
    "collapsed": false,
    "jupyter": {
     "outputs_hidden": false
    }
   },
   "source": [
    "Visualize displacement, strain and stress across spatial grid"
   ]
  },
  {
   "cell_type": "code",
   "metadata": {
    "collapsed": false,
    "jupyter": {
     "outputs_hidden": false
    }
   },
   "source": [
    "fig, ax = plt.subplots(1, 3, figsize=(15, 5))\n",
    "ax[0].plot(x.detach(), d.detach(), \"k\")\n",
    "ax[0].set_title(\"$u$\")\n",
    "ax[1].plot(x.detach(), eps.detach(), \"k\")\n",
    "ax[1].set_title(\"$\\\\varepsilon$\")\n",
    "ax[2].plot(x.detach(), sig.detach(), \"k\")\n",
    "ax[2].set_title(\"$\\\\sigma$\")\n",
    "fig.tight_layout()\n",
    "plt.show()"
   ],
   "outputs": [],
   "execution_count": null
  }
 ],
 "metadata": {
  "kernelspec": {
   "display_name": "Python 3.12 (XPython)",
   "language": "python",
   "name": "xpython"
  },
  "language_info": {
   "codemirror_mode": {
    "name": "ipython",
    "version": 3
   },
   "file_extension": ".py",
   "mimetype": "text/x-python",
   "name": "python",
   "nbconvert_exporter": "python",
   "pygments_lexer": "ipython3",
   "version": "3.1.undefined"
  }
 },
 "nbformat": 4,
 "nbformat_minor": 4
}
