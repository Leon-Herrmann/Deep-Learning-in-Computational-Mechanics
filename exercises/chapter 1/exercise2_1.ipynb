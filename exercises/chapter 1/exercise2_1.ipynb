{
 "cells": [
  {
   "cell_type": "markdown",
   "metadata": {},
   "source": [
    "# Exercise 2.1 - Computing Stress Fields with Tensors"
   ]
  },
  {
   "cell_type": "markdown",
   "metadata": {},
   "source": [
    "### Task\n",
    "Compute the mechanical equilibrium for an element of a displacement field defined in terms of bilinear shape functions.\n",
    "\n",
    "### Learning goals: \n",
    "To familiarize yourself with the PyTorch framework with an example from mechanics"
   ]
  },
  {
   "cell_type": "code",
   "metadata": {},
   "source": [
    "import torch\n",
    "import matplotlib.pyplot as plt\n",
    "from torch.autograd import grad"
   ],
   "outputs": [],
   "execution_count": null
  },
  {
   "cell_type": "markdown",
   "metadata": {},
   "source": [
    "shape functions for bilinear quadrilateral element\n",
    "$$\n",
    "\\begin{align}\n",
    "{N}_1(\\xi,\\eta) = \\frac{1}{4}(1-\\xi)(1-\\eta), \\\\[8pt]\n",
    "{N}_2(\\xi,\\eta) = \\frac{1}{4}(1+\\xi)(1-\\eta), \\\\[8pt]\n",
    "{N}_3(\\xi,\\eta) = \\frac{1}{4}(1+\\xi)(1+\\eta), \\\\[8pt]\n",
    "{N}_4(\\xi,\\eta) = \\frac{1}{4}(1-\\xi)(1+\\eta)\n",
    "\\end{align}\n",
    "$$"
   ]
  },
  {
   "cell_type": "code",
   "metadata": {},
   "source": [
    "N1 = lambda xi, eta: 0.25 * (1 - xi) * (1 - eta)\n",
    "N2 = lambda xi, eta: 0.25 * (1 + xi) * (1 - eta)\n",
    "N3 = lambda xi, eta: 0.25 * (1 + xi) * (1 + eta)\n",
    "N4 = lambda xi, eta: 0.25 * (1 - xi) * (1 + eta)"
   ],
   "outputs": [],
   "execution_count": null
  },
  {
   "cell_type": "markdown",
   "metadata": {},
   "source": [
    "nodal displacements\n"
   ]
  },
  {
   "cell_type": "code",
   "metadata": {},
   "source": [
    "U = [0.0, 1.0, 2.0, 1.0]\n",
    "V = [0.0, 0.0, 0.5, 0.8]\n",
    "u = (\n",
    "    lambda xi, eta:\n",
    "    N1(xi, eta) * U[0]\n",
    "    + N2(xi, eta) * U[1]\n",
    "    + N3(xi, eta) * U[2]\n",
    "    + N4(xi, eta) * U[3]\n",
    ")\n",
    "v = (\n",
    "    lambda xi, eta: N1(xi, eta) * V[0]\n",
    "                    + N2(xi, eta) * V[1]\n",
    "                    + N3(xi, eta) * V[2]\n",
    "                    + N4(xi, eta) * V[3]\n",
    ")"
   ],
   "outputs": [],
   "execution_count": null
  },
  {
   "cell_type": "markdown",
   "metadata": {},
   "source": [
    "definition of a spatial grid"
   ]
  },
  {
   "cell_type": "code",
   "metadata": {},
   "source": [
    "nx = 5\n",
    "ny = 5\n",
    "\n",
    "x = torch.linspace(-1, 1, nx, requires_grad=True)\n",
    "y = torch.linspace(-1, 1, ny, requires_grad=True)\n",
    "x, y = torch.meshgrid(x, y, indexing=\"ij\")"
   ],
   "outputs": [],
   "execution_count": null
  },
  {
   "cell_type": "markdown",
   "metadata": {},
   "source": [
    "sampled displacement field"
   ]
  },
  {
   "cell_type": "code",
   "metadata": {},
   "source": [
    "d = torch.cat((u(x, y).unsqueeze(0), v(x, y).unsqueeze(0)), 0)\n",
    "# the following is achieved by the concatenation\n",
    "# d[0, :, :] == u(x,y)\n",
    "# d[1, :, :] == v(x,y)"
   ],
   "outputs": [],
   "execution_count": null
  },
  {
   "cell_type": "markdown",
   "metadata": {},
   "source": [
    "gradient computation"
   ]
  },
  {
   "cell_type": "code",
   "metadata": {},
   "source": [
    "dd_dx = torch.zeros((2, 2, nx, ny))\n",
    "dd_dx[0, 0] = grad(d[0], x, torch.ones_like(x), create_graph=True, retain_graph=True)[0]\n",
    "# your code goes here: compute the remaining derivatives"
   ],
   "outputs": [],
   "execution_count": null
  },
  {
   "cell_type": "markdown",
   "metadata": {},
   "source": [
    "strain computation\n",
    "$$\\mathbf{\\epsilon} = \\frac{1}{2}(\\nabla \\mathbf{u} + \\nabla \\mathbf{u}^\\intercal)$$"
   ]
  },
  {
   "cell_type": "code",
   "metadata": {},
   "source": "# your code goes here: compute the strain field",
   "outputs": [],
   "execution_count": null
  },
  {
   "cell_type": "markdown",
   "metadata": {},
   "source": [
    "material properties and 4th order material tensor\n"
   ]
  },
  {
   "cell_type": "code",
   "metadata": {},
   "source": [
    "E = 210000.0\n",
    "nu = 0.3\n",
    "\n",
    "C = torch.zeros((2, 2, 2, 2))  # 4th order material tensor\n",
    "C[0, 0, 0, 0] = 1.0\n",
    "C[0, 0, 1, 1] = nu\n",
    "C[1, 1, 0, 0] = nu\n",
    "C[1, 1, 1, 1] = 1.0\n",
    "C[0, 1, 0, 1] = (1.0 - nu) / 2.0\n",
    "C = E / (1.0 - nu ** 2) * C"
   ],
   "outputs": [],
   "execution_count": null
  },
  {
   "cell_type": "markdown",
   "metadata": {},
   "source": [
    "stress computation\n",
    "$$\\mathbf{\\sigma} = \\mathbf{C} : \\mathbf{\\epsilon} $$"
   ]
  },
  {
   "cell_type": "code",
   "metadata": {},
   "source": "# your code goes here: compute the stress field",
   "outputs": [],
   "execution_count": null
  },
  {
   "cell_type": "markdown",
   "metadata": {
    "collapsed": false,
    "jupyter": {
     "outputs_hidden": false
    }
   },
   "source": [
    "equilibrium computation"
   ]
  },
  {
   "cell_type": "code",
   "metadata": {
    "collapsed": false,
    "jupyter": {
     "outputs_hidden": false
    }
   },
   "source": "# your code goes here: compute the equilibrium equations",
   "outputs": [],
   "execution_count": null
  },
  {
   "cell_type": "markdown",
   "metadata": {
    "collapsed": false,
    "jupyter": {
     "outputs_hidden": false
    }
   },
   "source": [
    "visualization"
   ]
  },
  {
   "cell_type": "code",
   "metadata": {
    "collapsed": false,
    "jupyter": {
     "outputs_hidden": false
    }
   },
   "source": [
    "fig, ax = plt.subplots(2, 5, figsize=(16, 4))\n",
    "title = [\n",
    "    r\"$u$\",\n",
    "    r\"$-(\\nabla \\sigma)_{1}$\",\n",
    "    r\"$\\epsilon_{11}$\",\n",
    "    r\"$\\epsilon_{22}$\",\n",
    "    r\"$\\epsilon_{12}$\",\n",
    "    r\"$v$\",\n",
    "    r\"$-(\\nabla \\sigma)_{2}$\",\n",
    "    r\"$\\sigma_{11}$\",\n",
    "    r\"$\\sigma_{22}$\",\n",
    "    r\"$\\sigma_{12}$\",\n",
    "]\n",
    "data = [\n",
    "    d[0],\n",
    "    f[0],\n",
    "    eps[0, 0],\n",
    "    eps[1, 1],\n",
    "    eps[0, 1],\n",
    "    d[1],\n",
    "    f[1],\n",
    "    sig[0, 0],\n",
    "    sig[1, 1],\n",
    "    sig[0, 1],\n",
    "]\n",
    "i = 0\n",
    "for i in range(2):\n",
    "    for j in range(5):\n",
    "        cp = ax[i, j].contourf(\n",
    "            x.detach(), y.detach(), data[i * 5 + j].detach(), levels=12, cmap=plt.cm.jet\n",
    "        )\n",
    "        fig.colorbar(cp, ax=ax[i, j], format=\"%.3f\")\n",
    "        ax[i, j].set_aspect(\"equal\")\n",
    "        ax[i, j].set_title(title[i * 5 + j])\n",
    "\n",
    "fig.tight_layout()\n",
    "plt.show()"
   ],
   "outputs": [],
   "execution_count": null
  }
 ],
 "metadata": {
  "kernelspec": {
   "display_name": "Python 3 (ipykernel)",
   "language": "python",
   "name": "python3"
  },
  "language_info": {
   "codemirror_mode": {
    "name": "ipython",
    "version": 3
   },
   "file_extension": ".py",
   "mimetype": "text/x-python",
   "name": "python",
   "nbconvert_exporter": "python",
   "pygments_lexer": "ipython3",
   "version": "3.12.2"
  }
 },
 "nbformat": 4,
 "nbformat_minor": 4
}
