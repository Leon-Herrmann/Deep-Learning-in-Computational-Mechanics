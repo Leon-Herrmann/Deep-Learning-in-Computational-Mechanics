{
 "cells": [
  {
   "cell_type": "markdown",
   "metadata": {},
   "source": "# Exercise 2.2 - Computing Stress Fields with Tensors"
  },
  {
   "cell_type": "markdown",
   "metadata": {},
   "source": [
    "### Task\n",
    "Estimate the mass density given a displacement field assuming a gravity load\n",
    "\n",
    "### Learning goals: \n",
    "To familiarize yourself with the PyTorch framework with an example from mechanics\n"
   ]
  },
  {
   "cell_type": "code",
   "metadata": {},
   "source": [
    "import torch\n",
    "import matplotlib.pyplot as plt\n",
    "from torch.autograd import grad"
   ],
   "outputs": [],
   "execution_count": null
  },
  {
   "metadata": {},
   "cell_type": "markdown",
   "source": "displacements"
  },
  {
   "cell_type": "code",
   "metadata": {},
   "source": "# your code goes here: modify the displacement function from exercise 2.1 according to exercise 2.2",
   "outputs": [],
   "execution_count": null
  },
  {
   "cell_type": "markdown",
   "metadata": {},
   "source": [
    "definition of a spatial grid"
   ]
  },
  {
   "cell_type": "code",
   "metadata": {},
   "source": [
    "nx = 5\n",
    "ny = 5\n",
    "\n",
    "x = torch.linspace(-1, 1, nx, requires_grad=True)\n",
    "y = torch.linspace(-1, 1, ny, requires_grad=True)\n",
    "x, y = torch.meshgrid(x, y, indexing=\"ij\")"
   ],
   "outputs": [],
   "execution_count": null
  },
  {
   "cell_type": "markdown",
   "metadata": {},
   "source": [
    "sampled displacement field"
   ]
  },
  {
   "cell_type": "code",
   "metadata": {},
   "source": [
    "d = torch.cat((u(x, y).unsqueeze(0), v(x, y).unsqueeze(0)), 0)\n",
    "# the following is achieved by the concatenation\n",
    "# d[0, :, :] == u(x,y)\n",
    "# d[1, :, :] == v(x,y)"
   ],
   "outputs": [],
   "execution_count": null
  },
  {
   "cell_type": "markdown",
   "metadata": {},
   "source": [
    "gradient computation"
   ]
  },
  {
   "cell_type": "code",
   "metadata": {},
   "source": [
    "dd_dx = torch.zeros((2, 2, nx, ny))\n",
    "dd_dx[0, 0] = grad(d[0], x, torch.ones_like(x), create_graph=True, retain_graph=True)[0]\n",
    "dd_dx[0, 1] = grad(d[0], y, torch.ones_like(y), create_graph=True, retain_graph=True)[0]\n",
    "dd_dx[1, 0] = grad(d[1], x, torch.ones_like(x), create_graph=True, retain_graph=True)[0]\n",
    "dd_dx[1, 1] = grad(d[1], y, torch.ones_like(y), create_graph=True, retain_graph=True)[0]"
   ],
   "outputs": [],
   "execution_count": null
  },
  {
   "cell_type": "markdown",
   "metadata": {},
   "source": [
    "strain computation\n",
    "$$\\mathbf{\\epsilon} = \\frac{1}{2}(\\nabla \\mathbf{u} + \\nabla \\mathbf{u}^\\intercal)$$"
   ]
  },
  {
   "cell_type": "code",
   "metadata": {},
   "source": [
    "eps = 0.5 * (dd_dx + dd_dx.permute((1, 0, 2, 3)))"
   ],
   "outputs": [],
   "execution_count": null
  },
  {
   "cell_type": "markdown",
   "metadata": {},
   "source": [
    "material properties and 4th order material tensor\n"
   ]
  },
  {
   "cell_type": "code",
   "metadata": {},
   "source": [
    "E = 210000.0\n",
    "nu = 0.3\n",
    "\n",
    "C = torch.zeros((2, 2, 2, 2))  # 4th order material tensor\n",
    "C[0, 0, 0, 0] = 1.0\n",
    "C[0, 0, 1, 1] = nu\n",
    "C[1, 1, 0, 0] = nu\n",
    "C[1, 1, 1, 1] = 1.0\n",
    "C[0, 1, 0, 1] = (1.0 - nu) / 2.0\n",
    "C = E / (1.0 - nu ** 2) * C"
   ],
   "outputs": [],
   "execution_count": null
  },
  {
   "cell_type": "markdown",
   "metadata": {},
   "source": [
    "stress computation\n",
    "$$\\mathbf{\\sigma} = \\mathbf{C} : \\mathbf{\\epsilon} $$"
   ]
  },
  {
   "cell_type": "code",
   "metadata": {},
   "source": [
    "sig = torch.tensordot(C, eps)"
   ],
   "outputs": [],
   "execution_count": null
  },
  {
   "cell_type": "markdown",
   "metadata": {
    "collapsed": false,
    "jupyter": {
     "outputs_hidden": false
    }
   },
   "source": [
    "equilibrium computation"
   ]
  },
  {
   "cell_type": "code",
   "metadata": {
    "collapsed": false,
    "jupyter": {
     "outputs_hidden": false
    }
   },
   "source": [
    "dsig11_dx = grad(\n",
    "    sig[0, 0], x, torch.ones_like(x), create_graph=True, retain_graph=True\n",
    ")[0]\n",
    "dsig12_dy = grad(\n",
    "    sig[0, 1], y, torch.ones_like(y), create_graph=True, retain_graph=True\n",
    ")[0]\n",
    "dsig21_dx = grad(\n",
    "    sig[1, 0], x, torch.ones_like(x), create_graph=True, retain_graph=True\n",
    ")[0]\n",
    "dsig22_dy = grad(\n",
    "    sig[1, 1], y, torch.ones_like(y), create_graph=True, retain_graph=True\n",
    ")[0]\n",
    "\n",
    "f = torch.zeros((2, nx, ny))\n",
    "f[0] = -dsig11_dx - dsig12_dy  # out of balance force in x1\n",
    "f[1] = -dsig21_dx - dsig22_dy  # out of balance force in x2"
   ],
   "outputs": [],
   "execution_count": null
  },
  {
   "metadata": {},
   "cell_type": "markdown",
   "source": "density computation"
  },
  {
   "metadata": {},
   "cell_type": "code",
   "source": "# your code goes here: compute the density",
   "outputs": [],
   "execution_count": null
  }
 ],
 "metadata": {
  "kernelspec": {
   "display_name": "Python 3 (ipykernel)",
   "language": "python",
   "name": "python3"
  },
  "language_info": {
   "codemirror_mode": {
    "name": "ipython",
    "version": 3
   },
   "file_extension": ".py",
   "mimetype": "text/x-python",
   "name": "python",
   "nbconvert_exporter": "python",
   "pygments_lexer": "ipython3",
   "version": "3.12.2"
  }
 },
 "nbformat": 4,
 "nbformat_minor": 4
}
